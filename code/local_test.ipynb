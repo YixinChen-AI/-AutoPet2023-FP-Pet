{
 "cells": [
  {
   "cell_type": "code",
   "execution_count": 1,
   "id": "25663a9f",
   "metadata": {
    "scrolled": true
   },
   "outputs": [
    {
     "name": "stdout",
     "output_type": "stream",
     "text": [
      "\n",
      "\n",
      "Please cite the following paper when using nnUNet:\n",
      "\n",
      "Isensee, F., Jaeger, P.F., Kohl, S.A.A. et al. \"nnU-Net: a self-configuring method for deep learning-based biomedical image segmentation.\" Nat Methods (2020). https://doi.org/10.1038/s41592-020-01008-z\n",
      "\n",
      "\n",
      "If you have questions or suggestions, feel free to open an issue at https://github.com/MIC-DKFZ/nnUNet\n",
      "\n"
     ]
    }
   ],
   "source": [
    "from process import Unet_baseline\n",
    "\n",
    "import os,pickle\n",
    "os.environ[\"CUDA_VISIBLE_DEVICES\"] = \"0\""
   ]
  },
  {
   "cell_type": "code",
   "execution_count": 1,
   "id": "87ee048a-4184-463a-9c1e-9c5900549f43",
   "metadata": {},
   "outputs": [
    {
     "ename": "ModuleNotFoundError",
     "evalue": "No module named 'cv2'",
     "output_type": "error",
     "traceback": [
      "\u001b[0;31m---------------------------------------------------------------------------\u001b[0m",
      "\u001b[0;31mModuleNotFoundError\u001b[0m                       Traceback (most recent call last)",
      "Cell \u001b[0;32mIn[1], line 1\u001b[0m\n\u001b[0;32m----> 1\u001b[0m \u001b[38;5;28;01mimport\u001b[39;00m \u001b[38;5;21;01mcv2\u001b[39;00m\n",
      "\u001b[0;31mModuleNotFoundError\u001b[0m: No module named 'cv2'"
     ]
    }
   ],
   "source": [
    "import cv2"
   ]
  },
  {
   "cell_type": "code",
   "execution_count": 2,
   "id": "0b5b731b",
   "metadata": {},
   "outputs": [
    {
     "name": "stdout",
     "output_type": "stream",
     "text": [
      "Checking GPU availability\n",
      "Available: True\n",
      "Device count: 1\n",
      "Current device: 0\n",
      "Device name: NVIDIA A800 80GB PCIe\n",
      "Device memory: 84987740160\n",
      "Start processing\n",
      "['1000.mha', '1001.mha'] ['1000.mha', '1001.mha']\n",
      "uuid 1000\n",
      "Start prediction\n",
      "(326, 400, 400)\n",
      "Start output writing\n"
     ]
    },
    {
     "name": "stderr",
     "output_type": "stream",
     "text": [
      "WARNING: In /usr/share/miniconda/envs/bld/conda-bld/simpleitk_1670967017374/work/build/ITK/Modules/IO/Meta/src/itkMetaImageIO.cxx, line 651\n",
      "MetaImageIO (0x1d565e70): Unsupported or empty metaData item ITK_FileNotes of type NSt7__cxx1112basic_stringIcSt11char_traitsIcESaIcEEEfound, won't be written to image file\n",
      "\n",
      "WARNING: In /usr/share/miniconda/envs/bld/conda-bld/simpleitk_1670967017374/work/build/ITK/Modules/IO/Meta/src/itkMetaImageIO.cxx, line 651\n",
      "MetaImageIO (0x1d565e70): Unsupported or empty metaData item aux_file of type NSt7__cxx1112basic_stringIcSt11char_traitsIcESaIcEEEfound, won't be written to image file\n",
      "\n",
      "WARNING: In /usr/share/miniconda/envs/bld/conda-bld/simpleitk_1670967017374/work/build/ITK/Modules/IO/Meta/src/itkMetaImageIO.cxx, line 651\n",
      "MetaImageIO (0x1d565e70): Unsupported or empty metaData item descrip of type NSt7__cxx1112basic_stringIcSt11char_traitsIcESaIcEEEfound, won't be written to image file\n",
      "\n",
      "WARNING: In /usr/share/miniconda/envs/bld/conda-bld/simpleitk_1670967017374/work/build/ITK/Modules/IO/Meta/src/itkMetaImageIO.cxx, line 651\n",
      "MetaImageIO (0x1d565e70): Unsupported or empty metaData item intent_name of type NSt7__cxx1112basic_stringIcSt11char_traitsIcESaIcEEEfound, won't be written to image file\n",
      "\n",
      "WARNING: In /usr/share/miniconda/envs/bld/conda-bld/simpleitk_1670967017374/work/build/ITK/Modules/IO/Meta/src/itkMetaImageIO.cxx, line 651\n",
      "MetaImageIO (0x1d565e70): Unsupported or empty metaData item qto_xyz of type N3itk6MatrixIfLj4ELj4EEEfound, won't be written to image file\n",
      "\n"
     ]
    },
    {
     "name": "stdout",
     "output_type": "stream",
     "text": [
      "Output written to: ./test/output/1000.mha\n",
      "uuid 1001\n",
      "Start prediction\n",
      "(326, 400, 400)\n",
      "Start output writing\n",
      "Output written to: ./test/output/1001.mha\n"
     ]
    },
    {
     "name": "stderr",
     "output_type": "stream",
     "text": [
      "WARNING: In /usr/share/miniconda/envs/bld/conda-bld/simpleitk_1670967017374/work/build/ITK/Modules/IO/Meta/src/itkMetaImageIO.cxx, line 651\n",
      "MetaImageIO (0x1d5665f0): Unsupported or empty metaData item ITK_FileNotes of type NSt7__cxx1112basic_stringIcSt11char_traitsIcESaIcEEEfound, won't be written to image file\n",
      "\n",
      "WARNING: In /usr/share/miniconda/envs/bld/conda-bld/simpleitk_1670967017374/work/build/ITK/Modules/IO/Meta/src/itkMetaImageIO.cxx, line 651\n",
      "MetaImageIO (0x1d5665f0): Unsupported or empty metaData item aux_file of type NSt7__cxx1112basic_stringIcSt11char_traitsIcESaIcEEEfound, won't be written to image file\n",
      "\n",
      "WARNING: In /usr/share/miniconda/envs/bld/conda-bld/simpleitk_1670967017374/work/build/ITK/Modules/IO/Meta/src/itkMetaImageIO.cxx, line 651\n",
      "MetaImageIO (0x1d5665f0): Unsupported or empty metaData item descrip of type NSt7__cxx1112basic_stringIcSt11char_traitsIcESaIcEEEfound, won't be written to image file\n",
      "\n",
      "WARNING: In /usr/share/miniconda/envs/bld/conda-bld/simpleitk_1670967017374/work/build/ITK/Modules/IO/Meta/src/itkMetaImageIO.cxx, line 651\n",
      "MetaImageIO (0x1d5665f0): Unsupported or empty metaData item intent_name of type NSt7__cxx1112basic_stringIcSt11char_traitsIcESaIcEEEfound, won't be written to image file\n",
      "\n",
      "WARNING: In /usr/share/miniconda/envs/bld/conda-bld/simpleitk_1670967017374/work/build/ITK/Modules/IO/Meta/src/itkMetaImageIO.cxx, line 651\n",
      "MetaImageIO (0x1d5665f0): Unsupported or empty metaData item qto_xyz of type N3itk6MatrixIfLj4ELj4EEEfound, won't be written to image file\n",
      "\n"
     ]
    }
   ],
   "source": [
    "process = Unet_baseline()\n",
    "\n",
    "process.process()"
   ]
  },
  {
   "cell_type": "code",
   "execution_count": null,
   "id": "b25c5652",
   "metadata": {},
   "outputs": [],
   "source": []
  },
  {
   "cell_type": "code",
   "execution_count": null,
   "id": "743866ea-fee4-4fc9-8c83-cbbb39007624",
   "metadata": {},
   "outputs": [],
   "source": []
  }
 ],
 "metadata": {
  "kernelspec": {
   "display_name": "megapet",
   "language": "python",
   "name": "megapet"
  },
  "language_info": {
   "codemirror_mode": {
    "name": "ipython",
    "version": 3
   },
   "file_extension": ".py",
   "mimetype": "text/x-python",
   "name": "python",
   "nbconvert_exporter": "python",
   "pygments_lexer": "ipython3",
   "version": "3.10.12"
  }
 },
 "nbformat": 4,
 "nbformat_minor": 5
}
